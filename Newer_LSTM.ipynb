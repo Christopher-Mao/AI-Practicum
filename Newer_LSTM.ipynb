{
  "nbformat": 4,
  "nbformat_minor": 0,
  "metadata": {
    "colab": {
      "provenance": [],
      "gpuType": "T4",
      "include_colab_link": true
    },
    "kernelspec": {
      "name": "python3",
      "display_name": "Python 3"
    },
    "language_info": {
      "name": "python"
    },
    "accelerator": "GPU"
  },
  "cells": [
    {
      "cell_type": "markdown",
      "metadata": {
        "id": "view-in-github",
        "colab_type": "text"
      },
      "source": [
        "<a href=\"https://colab.research.google.com/github/Christopher-Mao/AI-Practicum/blob/main/Newer_LSTM.ipynb\" target=\"_parent\"><img src=\"https://colab.research.google.com/assets/colab-badge.svg\" alt=\"Open In Colab\"/></a>"
      ]
    },
    {
      "cell_type": "code",
      "source": [
        "import pandas as pd\n",
        "import numpy as np\n",
        "import torch\n",
        "import torch.nn as nn\n",
        "from torch.utils.data import DataLoader, TensorDataset\n",
        "import matplotlib.pyplot as plt\n",
        "from sklearn.metrics import mean_absolute_error, mean_squared_error"
      ],
      "metadata": {
        "id": "IS00u7rKnnRL"
      },
      "execution_count": 1,
      "outputs": []
    },
    {
      "cell_type": "code",
      "source": [
        "# Constants used below:\n",
        "# Set a custom sampling strategy (e.g., 0.25 means the minority class will be 25% of the majority class)\n",
        "sampling_ratio = 0.25  # Adjust this value as needed\n",
        "\n",
        "device = torch.device(\"cuda\" if torch.cuda.is_available() else \"cpu\")\n",
        "#device = torch.device(\"cpu\")\n",
        "\n",
        "num_epochs = 2\n",
        "\n",
        "seq_length = 5  # however long you want the training sequence to be\n",
        "\n",
        "hidden_size = 50  # Number of hidden units\n",
        "num_layers = 2  # Number of stacked LSTM layers"
      ],
      "metadata": {
        "id": "_meuoEuBI3uc"
      },
      "execution_count": 2,
      "outputs": []
    },
    {
      "cell_type": "code",
      "source": [
        "!wget https://www.epa.gov/system/files/other-files/2023-08/ucmr5-occurrence-data.zip\n",
        "!unzip ucmr5-occurrence-data.zip"
      ],
      "metadata": {
        "colab": {
          "base_uri": "https://localhost:8080/"
        },
        "id": "nLe166a3tplv",
        "outputId": "c54b7d23-58ec-4540-fece-a69938b699f7"
      },
      "execution_count": 3,
      "outputs": [
        {
          "output_type": "stream",
          "name": "stdout",
          "text": [
            "--2024-12-08 03:51:40--  https://www.epa.gov/system/files/other-files/2023-08/ucmr5-occurrence-data.zip\n",
            "Resolving www.epa.gov (www.epa.gov)... 13.32.99.93, 13.32.99.101, 13.32.99.3, ...\n",
            "Connecting to www.epa.gov (www.epa.gov)|13.32.99.93|:443... connected.\n",
            "HTTP request sent, awaiting response... 200 OK\n",
            "Length: 8128843 (7.8M) [application/zip]\n",
            "Saving to: ‘ucmr5-occurrence-data.zip.2’\n",
            "\n",
            "ucmr5-occurrence-da 100%[===================>]   7.75M  5.56MB/s    in 1.4s    \n",
            "\n",
            "2024-12-08 03:51:43 (5.56 MB/s) - ‘ucmr5-occurrence-data.zip.2’ saved [8128843/8128843]\n",
            "\n",
            "Archive:  ucmr5-occurrence-data.zip\n",
            "replace UCMR5_ZIPCodes.txt? [y]es, [n]o, [A]ll, [N]one, [r]ename: N\n"
          ]
        }
      ]
    },
    {
      "cell_type": "code",
      "source": [
        "def text_to_pandas(file_path, sep='\\t', encoding='latin-1'):\n",
        "    df = pd.read_csv(file_path, sep=sep, encoding=encoding)\n",
        "    return df\n",
        "UCMR5_df = text_to_pandas('UCMR5_All.txt')"
      ],
      "metadata": {
        "id": "8K5GE7fwybwf"
      },
      "execution_count": 4,
      "outputs": []
    },
    {
      "cell_type": "markdown",
      "source": [
        "## Preprocessing"
      ],
      "metadata": {
        "id": "buPBHlyKSvot"
      }
    },
    {
      "cell_type": "code",
      "source": [
        "print(UCMR5_df.shape)\n",
        "# Drop unnecessary row 'lithium'\n",
        "UCMR5_filtered_df = UCMR5_df[~UCMR5_df['Contaminant'].str.contains('lithium', case=False, na=False)].copy()\n",
        "print(UCMR5_filtered_df.shape)"
      ],
      "metadata": {
        "colab": {
          "base_uri": "https://localhost:8080/"
        },
        "id": "u4y4qQ0y7_2L",
        "outputId": "35e93ec7-fb6d-4e1f-f93a-72c3f103ccd4"
      },
      "execution_count": 5,
      "outputs": [
        {
          "output_type": "stream",
          "name": "stdout",
          "text": [
            "(1133967, 24)\n",
            "(1095477, 24)\n"
          ]
        }
      ]
    },
    {
      "cell_type": "code",
      "source": [
        "UCMR5_filtered_df = UCMR5_filtered_df[['Size', 'FacilityWaterType', 'CollectionDate', 'Contaminant', 'MRL', 'AnalyticalResultsSign', 'AnalyticalResultValue', 'Region']].copy()\n",
        "UCMR5_filtered_df.shape"
      ],
      "metadata": {
        "colab": {
          "base_uri": "https://localhost:8080/"
        },
        "id": "N8I3Rf4pwud2",
        "outputId": "50abab38-88cd-4a1a-875f-b12045df69e4"
      },
      "execution_count": 6,
      "outputs": [
        {
          "output_type": "execute_result",
          "data": {
            "text/plain": [
              "(1095477, 8)"
            ]
          },
          "metadata": {},
          "execution_count": 6
        }
      ]
    },
    {
      "cell_type": "code",
      "source": [
        "# Convert 'CollectionDate' to datetime objects, handling potential errors\n",
        "UCMR5_filtered_df['CollectionDate'] = pd.to_datetime(UCMR5_filtered_df['CollectionDate'], errors='coerce')\n",
        "UCMR5_filtered_df['Year'] = UCMR5_filtered_df['CollectionDate'].dt.year\n",
        "UCMR5_filtered_df['Month'] = UCMR5_filtered_df['CollectionDate'].dt.month\n",
        "UCMR5_filtered_df['Day'] = UCMR5_filtered_df['CollectionDate'].dt.day\n",
        "UCMR5_filtered_df['Quarter'] = UCMR5_filtered_df['CollectionDate'].dt.quarter"
      ],
      "metadata": {
        "id": "bhlZRbFbSP9i"
      },
      "execution_count": 7,
      "outputs": []
    },
    {
      "cell_type": "code",
      "source": [
        "print(\"Range of CollectionDate in UCMR5_filtered_df:\")\n",
        "print(UCMR5_filtered_df['CollectionDate'].min(), UCMR5_filtered_df['CollectionDate'].max())"
      ],
      "metadata": {
        "colab": {
          "base_uri": "https://localhost:8080/"
        },
        "id": "RD5u53BQWdnh",
        "outputId": "5eaed3f0-7064-40a1-d106-65cb6680ef3d"
      },
      "execution_count": 8,
      "outputs": [
        {
          "output_type": "stream",
          "name": "stdout",
          "text": [
            "Range of CollectionDate in UCMR5_filtered_df:\n",
            "2023-01-03 00:00:00 2024-09-30 00:00:00\n"
          ]
        }
      ]
    },
    {
      "cell_type": "markdown",
      "source": [
        "## LSTM Model"
      ],
      "metadata": {
        "id": "M2xuxeg0S2E0"
      }
    },
    {
      "cell_type": "code",
      "source": [
        "# Check CUDA availability\n",
        "print(f\"Using device: {device}\")"
      ],
      "metadata": {
        "colab": {
          "base_uri": "https://localhost:8080/"
        },
        "id": "qaAL-Sg_vGeL",
        "outputId": "ecdb1df2-5fc7-4abf-927b-4f6ce101f937"
      },
      "execution_count": 9,
      "outputs": [
        {
          "output_type": "stream",
          "name": "stdout",
          "text": [
            "Using device: cuda\n"
          ]
        }
      ]
    },
    {
      "cell_type": "markdown",
      "source": [
        "1. Filter Data for Training and Prediction\n",
        "Training Data: Include only rows from 2023.\n",
        "Test Data (Prediction): Include only rows from 2024."
      ],
      "metadata": {
        "id": "88wM6fd3ynu3"
      }
    },
    {
      "cell_type": "code",
      "source": [
        "# Filter training and prediction datasets\n",
        "train_data = UCMR5_filtered_df[UCMR5_filtered_df[\"Year\"] == 2023]\n",
        "test_data = UCMR5_filtered_df[UCMR5_filtered_df[\"Year\"] == 2024]\n",
        "\n",
        "# Separate features and target variable\n",
        "features = ['Size', 'FacilityWaterType', 'Month', 'Day', 'Contaminant', 'Region']\n",
        "target = 'AnalyticalResultsSign'\n",
        "\n",
        "X_train = train_data[features]\n",
        "y_train = train_data[target]\n",
        "\n",
        "X_test = test_data[features]"
      ],
      "metadata": {
        "id": "FuFKhCQeyesV"
      },
      "execution_count": 10,
      "outputs": []
    },
    {
      "cell_type": "markdown",
      "source": [
        "2. Preprocess the Data\n",
        "One-Hot Encoding and Normalization\n",
        "Ensure the test data (2024) uses the same encoding and normalization as the training data:"
      ],
      "metadata": {
        "id": "y6lb6JKNysDL"
      }
    },
    {
      "cell_type": "code",
      "source": [
        "# One-hot encode categorical features\n",
        "X_train = pd.get_dummies(X_train, columns=['Size', 'FacilityWaterType', 'Month', 'Day', 'Contaminant', 'Region'], drop_first=True)\n",
        "X_test = pd.get_dummies(X_test, columns=['Size', 'FacilityWaterType', 'Month', 'Day', 'Contaminant', 'Region'], drop_first=True)\n",
        "# Ensure both datasets have the same columns\n",
        "X_test = X_test.reindex(columns=X_train.columns, fill_value=0)\n",
        "# Convert target to binary values\n",
        "y_train = (y_train == '=').astype(int)  # 1 for '=', 0 for '<'\n",
        "# Normalize or standardize features (optional)\n",
        "from sklearn.preprocessing import StandardScaler\n",
        "scaler = StandardScaler()\n",
        "X_train = scaler.fit_transform(X_train)\n",
        "X_test = scaler.transform(X_test)"
      ],
      "metadata": {
        "id": "fyrqcm-BytFX"
      },
      "execution_count": 11,
      "outputs": []
    },
    {
      "cell_type": "markdown",
      "source": [
        "3. Apply SMOTE or undersampling"
      ],
      "metadata": {
        "id": "pe4F3eM1_scP"
      }
    },
    {
      "cell_type": "code",
      "source": [
        "from imblearn.over_sampling import SMOTE\n",
        "\n",
        "# Apply SMOTE with the custom sampling ratio\n",
        "smote = SMOTE(sampling_strategy=sampling_ratio, random_state=42)  # Set random_state for reproducibility\n",
        "X_train_resampled, y_train_resampled = smote.fit_resample(X_train, y_train)\n",
        "\n",
        "# Print the class distribution before and after applying SMOTE\n",
        "print(\"Class distribution before SMOTE:\")\n",
        "print(pd.Series(y_train).value_counts())\n",
        "print(\"\\nClass distribution after SMOTE:\")\n",
        "print(pd.Series(y_train_resampled).value_counts())\n",
        "\n",
        "\n",
        "\n",
        "# # Undersampling\n",
        "# from imblearn.under_sampling import RandomUnderSampler\n",
        "\n",
        "# # Apply undersampling to training data\n",
        "# undersampler = RandomUnderSampler(random_state=42)  # Set random_state for reproducibility\n",
        "# X_train_resampled, y_train_resampled = undersampler.fit_resample(X_train, y_train)\n",
        "\n",
        "# # Print the class distribution before and after applying undersampling\n",
        "# print(\"Class distribution before undersampling:\")\n",
        "# print(pd.Series(y_train).value_counts())\n",
        "# print(\"\\nClass distribution after undersampling:\")\n",
        "# print(pd.Series(y_train_resampled).value_counts())\n",
        "\n"
      ],
      "metadata": {
        "colab": {
          "base_uri": "https://localhost:8080/"
        },
        "id": "CyyFG8OI_k0Y",
        "outputId": "9b5af510-6a35-43ba-abd5-ff3efeb66c13"
      },
      "execution_count": 12,
      "outputs": [
        {
          "output_type": "stream",
          "name": "stdout",
          "text": [
            "Class distribution before SMOTE:\n",
            "AnalyticalResultsSign\n",
            "0    603961\n",
            "1     13120\n",
            "Name: count, dtype: int64\n",
            "\n",
            "Class distribution after SMOTE:\n",
            "AnalyticalResultsSign\n",
            "0    603961\n",
            "1    150990\n",
            "Name: count, dtype: int64\n"
          ]
        }
      ]
    },
    {
      "cell_type": "markdown",
      "source": [
        "4. Convert Data to PyTorch Tensors"
      ],
      "metadata": {
        "id": "2lz-hOdByzvu"
      }
    },
    {
      "cell_type": "code",
      "source": [
        "# Define sequence length\n",
        "\n",
        "\n",
        "# Reshape X_train and y_train into sequences\n",
        "X_train_sequences = []\n",
        "y_train_sequences = []\n",
        "\n",
        "# Convert X_train and y_train into overlapping sequences\n",
        "for i in range(len(X_train) - seq_length + 1):\n",
        "    # Collect seq_length timesteps for input\n",
        "    X_train_sequences.append(X_train_resampled[i:i+seq_length, :])\n",
        "    # Use the value after the sequence as the target\n",
        "    y_train_sequences.append(y_train_resampled.values[i + seq_length - 1])\n",
        "\n",
        "# Convert sequences to PyTorch tensors\n",
        "X_train_tensor = torch.tensor(X_train_sequences, dtype=torch.float32)  # Shape: (num_samples, seq_length, num_features)\n",
        "y_train_tensor = torch.tensor(y_train_sequences, dtype=torch.float32)  # Shape: (num_samples,)\n",
        "\n",
        "# Optionally repeat the process for X_test if necessary\n",
        "X_test_sequences = []\n",
        "for i in range(len(X_test) - seq_length + 1):\n",
        "    X_test_sequences.append(X_test[i:i+seq_length, :])\n",
        "X_test_tensor = torch.tensor(X_test_sequences, dtype=torch.float32)\n",
        "\n",
        "# Create DataLoader for training\n",
        "train_data = TensorDataset(X_train_tensor, y_train_tensor)\n",
        "train_loader = DataLoader(train_data, batch_size=32, shuffle=True)\n",
        "\n",
        "# Optional: Check shapes for debugging\n",
        "print(f\"X_train_tensor shape: {X_train_tensor.shape}\")  # (num_samples, seq_length, num_features)\n",
        "print(f\"y_train_tensor shape: {y_train_tensor.shape}\")  # (num_samples,)\n"
      ],
      "metadata": {
        "id": "YmI81237y2Qd",
        "colab": {
          "base_uri": "https://localhost:8080/"
        },
        "outputId": "2fadb92f-2c37-475b-cceb-46a8a1bd284b"
      },
      "execution_count": 13,
      "outputs": [
        {
          "output_type": "stream",
          "name": "stderr",
          "text": [
            "<ipython-input-13-5239a98059e1>:16: UserWarning: Creating a tensor from a list of numpy.ndarrays is extremely slow. Please consider converting the list to a single numpy.ndarray with numpy.array() before converting to a tensor. (Triggered internally at ../torch/csrc/utils/tensor_new.cpp:278.)\n",
            "  X_train_tensor = torch.tensor(X_train_sequences, dtype=torch.float32)  # Shape: (num_samples, seq_length, num_features)\n"
          ]
        },
        {
          "output_type": "stream",
          "name": "stdout",
          "text": [
            "X_train_tensor shape: torch.Size([617077, 5, 82])\n",
            "y_train_tensor shape: torch.Size([617077])\n"
          ]
        }
      ]
    },
    {
      "cell_type": "code",
      "source": [
        "# --- Step 3: Define the LSTM Model ---\n",
        "class LSTMModel(nn.Module):\n",
        "    def __init__(self, input_size, hidden_size, num_layers):\n",
        "        super(LSTMModel, self).__init__()\n",
        "        self.hidden_size = hidden_size\n",
        "        self.num_layers = num_layers\n",
        "        self.lstm = nn.LSTM(input_size, hidden_size, num_layers, batch_first=True)\n",
        "        self.fc = nn.Linear(hidden_size, 1)  # Output layer for regression\n",
        "\n",
        "        # Initialize hidden and cell states as None\n",
        "        self.hidden = None\n",
        "\n",
        "    def forward(self, x):\n",
        "        # If hidden states are None or the batch size changes, reinitialize them\n",
        "        if self.hidden is None or self.hidden[0].size(1) != x.size(0):\n",
        "            self.hidden = (\n",
        "                torch.zeros(self.num_layers, x.size(0), self.hidden_size).to(x.device),\n",
        "                torch.zeros(self.num_layers, x.size(0), self.hidden_size).to(x.device),\n",
        "            )\n",
        "\n",
        "        # Forward propagate through LSTM\n",
        "        out, self.hidden = self.lstm(x, self.hidden)\n",
        "\n",
        "        # Detach hidden states to prevent backprop through history\n",
        "        self.hidden = (self.hidden[0].detach(), self.hidden[1].detach())\n",
        "\n",
        "        # Fully connected layer on the last time step\n",
        "        out = self.fc(out[:, -1, :])\n",
        "        return out\n",
        "\n",
        "\n",
        "    def reset_hidden_state(self):\n",
        "        \"\"\"Reset hidden and cell states (e.g., at the start of each epoch).\"\"\"\n",
        "        self.hidden = None\n"
      ],
      "metadata": {
        "id": "v2W2dMwfzlZZ"
      },
      "execution_count": 14,
      "outputs": []
    },
    {
      "cell_type": "code",
      "source": [
        "# --- Step 4: Initialize the Model, Loss Function, and Optimizer ---\n",
        "\n",
        "input_size = X_train_tensor.shape[2]  # Number of features. tensor is num_samples, seq_length, num_features\n",
        "\n",
        "model = LSTMModel(input_size, hidden_size, num_layers).to(device)\n",
        "\n",
        "criterion = nn.CrossEntropyLoss()  # Loss function for classification\n",
        "optimizer = torch.optim.Adam(model.parameters(), lr=0.0001)  # Optimizer"
      ],
      "metadata": {
        "id": "TafNpDxMzqt7"
      },
      "execution_count": 15,
      "outputs": []
    },
    {
      "cell_type": "code",
      "source": [
        "from tqdm import tqdm\n",
        "import time\n",
        "\n",
        "# --- Step 5: Train the Model ---\n",
        "\n",
        "for epoch in range(num_epochs):\n",
        "    model.train()\n",
        "    epoch_loss = 0\n",
        "\n",
        "    # Reset hidden state at the start of each epoch (if needed)\n",
        "    if hasattr(model, \"reset_hidden_state\"):\n",
        "        model.reset_hidden_state()\n",
        "\n",
        "    # Use tqdm to create a progress bar\n",
        "    with tqdm(train_loader, desc=f\"Epoch {epoch+1}/{num_epochs}\", unit=\"batch\") as pbar:\n",
        "        for X_batch, y_batch in pbar:\n",
        "            start_time = time.time()  # Start time for the batch\n",
        "\n",
        "            # Move data to device\n",
        "            X_batch = X_batch.to(device)\n",
        "            y_batch = y_batch.to(device)\n",
        "\n",
        "            # Forward pass\n",
        "            predictions = model(X_batch).squeeze()\n",
        "            loss = criterion(predictions, y_batch)\n",
        "\n",
        "            # Backward pass and optimization\n",
        "            optimizer.zero_grad()\n",
        "            loss.backward()\n",
        "            optimizer.step()\n",
        "\n",
        "            # Update epoch loss\n",
        "            epoch_loss += loss.item()\n",
        "\n",
        "            # End time for the batch\n",
        "            batch_time = time.time() - start_time\n",
        "\n",
        "            # Update tqdm description\n",
        "            pbar.set_postfix(loss=f\"{loss.item():.4f}\", batch_time=f\"{batch_time:.4f}s\")\n",
        "\n",
        "    # Print epoch-level results\n",
        "    print(f\"Epoch [{epoch+1}/{num_epochs}], Loss: {epoch_loss / len(train_loader):.8f}\")"
      ],
      "metadata": {
        "colab": {
          "base_uri": "https://localhost:8080/"
        },
        "id": "9IrU_MmRzuMg",
        "outputId": "c805658e-fb5e-4023-9593-a887f3c732da"
      },
      "execution_count": 16,
      "outputs": [
        {
          "output_type": "stream",
          "name": "stderr",
          "text": [
            "Epoch 1/2: 100%|██████████| 19284/19284 [02:18<00:00, 139.53batch/s, batch_time=0.0091s, loss=-0.0000]\n"
          ]
        },
        {
          "output_type": "stream",
          "name": "stdout",
          "text": [
            "Epoch [1/2], Loss: 1.54392877\n"
          ]
        },
        {
          "output_type": "stream",
          "name": "stderr",
          "text": [
            "Epoch 2/2: 100%|██████████| 19284/19284 [02:08<00:00, 150.64batch/s, batch_time=0.0040s, loss=6.4825]"
          ]
        },
        {
          "output_type": "stream",
          "name": "stdout",
          "text": [
            "Epoch [2/2], Loss: 1.28843333\n"
          ]
        },
        {
          "output_type": "stream",
          "name": "stderr",
          "text": [
            "\n"
          ]
        }
      ]
    },
    {
      "cell_type": "code",
      "source": [
        "from sklearn.metrics import confusion_matrix\n",
        "\n",
        "# --- Step 6: Make Predictions for 2024 ---\n",
        "model.eval()  # Set the model to evaluation mode\n",
        "with torch.no_grad():\n",
        "    print(f\"Original X_test_tensor shape: {X_test_tensor.shape}\")  # Debug\n",
        "    X_test_tensor = X_test_tensor.to(device)  # Add time dimension and move to device\n",
        "    print(f\"Reshaped X_test_tensor shape: {X_test_tensor.shape}\")  # Debug\n",
        "\n",
        "    # Get model predictions\n",
        "    outputs = model(X_test_tensor)  # Raw logits or probabilities\n",
        "    predictions = torch.sigmoid(outputs).squeeze()  # Apply sigmoid for binary classification probabilities\n",
        "\n",
        "# Convert probabilities to binary class labels\n",
        "threshold = 0.5\n",
        "predicted_labels = (predictions > threshold).int()  # Convert probabilities to 0 or 1\n",
        "\n",
        "# Ensure alignment by dropping initial rows from test_data\n",
        "adjusted_test_data = test_data.iloc[seq_length - 1:].copy()\n",
        "\n",
        "# Add predictions to the adjusted DataFrame\n",
        "adjusted_test_data[\"PredictedSign\"] = predicted_labels.cpu().numpy()\n",
        "\n",
        "# Save the results\n",
        "adjusted_test_data.to_csv(\"predictions_2024.csv\", index=False)\n",
        "\n",
        "# Debugging: Check alignment\n",
        "print(f\"Adjusted test_data shape: {adjusted_test_data.shape}\")\n",
        "print(f\"PredictedSign shape: {predicted_labels.shape}\")\n",
        "\n",
        "# --- Optional: Evaluate the Model ---\n",
        "if 'AnalyticalResultsSign' in test_data.columns:\n",
        "    y_test = adjusted_test_data['AnalyticalResultsSign'].values\n",
        "    y_test_binary = (y_test == '=').astype(int)  # Convert ground truth to binary labels\n",
        "\n",
        "    # Convert ground truth to PyTorch tensor\n",
        "    y_test_tensor = torch.tensor(y_test_binary, dtype=torch.float32).to(device)\n",
        "\n",
        "    # Ensure alignment\n",
        "    if len(predicted_labels) != len(y_test_tensor):\n",
        "        raise ValueError(\"Mismatch between predictions and ground truth values.\")\n",
        "\n",
        "    # Calculate accuracy\n",
        "    correct_predictions = (predicted_labels == y_test_tensor).sum().item()\n",
        "    accuracy = correct_predictions / len(y_test_tensor)\n",
        "\n",
        "    print(f\"Accuracy on 2024 data: {accuracy:.4f}\")\n",
        "\n",
        "    # Additional metrics (e.g., precision, recall, F1-score)\n",
        "    from sklearn.metrics import classification_report\n",
        "    print(classification_report(y_test_binary, predicted_labels.cpu().numpy()))\n",
        "\n",
        "    # --- Add Confusion Matrix ---\n",
        "    from sklearn.metrics import confusion_matrix\n",
        "\n",
        "    # Assuming y_test_binary and predicted_labels are defined as in your code\n",
        "    conf_matrix = confusion_matrix(y_test_binary, predicted_labels.cpu().numpy())\n",
        "\n",
        "    print(\"Confusion Matrix:\")\n",
        "    print(conf_matrix)"
      ],
      "metadata": {
        "colab": {
          "base_uri": "https://localhost:8080/"
        },
        "id": "R6QVB0X67dzA",
        "outputId": "2f9b5d59-c78c-48ef-ff44-5ff6eefc5ab2"
      },
      "execution_count": 17,
      "outputs": [
        {
          "output_type": "stream",
          "name": "stdout",
          "text": [
            "Original X_test_tensor shape: torch.Size([478392, 5, 82])\n",
            "Reshaped X_test_tensor shape: torch.Size([478392, 5, 82])\n",
            "Adjusted test_data shape: (478392, 13)\n",
            "PredictedSign shape: torch.Size([478392])\n",
            "Accuracy on 2024 data: 0.7419\n",
            "              precision    recall  f1-score   support\n",
            "\n",
            "           0       1.00      0.74      0.85    469166\n",
            "           1       0.07      0.98      0.13      9226\n",
            "\n",
            "    accuracy                           0.74    478392\n",
            "   macro avg       0.53      0.86      0.49    478392\n",
            "weighted avg       0.98      0.74      0.83    478392\n",
            "\n",
            "Confusion Matrix:\n",
            "[[345862 123304]\n",
            " [   175   9051]]\n"
          ]
        }
      ]
    },
    {
      "cell_type": "code",
      "source": [
        "# --- Step 1: Filter Data ---\n",
        "filtered_data = adjusted_test_data[adjusted_test_data[\"PredictedSign\"] == 1].copy()\n",
        "filtered_data[\"AnalyticalResultValue\"].fillna(\n",
        "    filtered_data[\"MRL\"] / 2, inplace=True\n",
        ")\n",
        "\n",
        "# Features and target\n",
        "features = ['Size', 'FacilityWaterType', 'Month', 'Day', 'Contaminant', 'Region']\n",
        "target = 'AnalyticalResultValue'\n",
        "\n",
        "# Debug: Check if features exist in UCMR5_filtered_df\n",
        "missing_features = [col for col in features if col not in UCMR5_filtered_df.columns]\n",
        "if missing_features:\n",
        "    print(f\"Missing feature columns: {missing_features}\")\n",
        "    raise ValueError(\"Features are missing from the dataset.\")\n",
        "\n",
        "# Training data\n",
        "filtered_train = UCMR5_filtered_df[\n",
        "    (UCMR5_filtered_df['AnalyticalResultsSign'] == '=') &\n",
        "    (UCMR5_filtered_df['Year'] == 2023)\n",
        "]\n",
        "if filtered_train.empty:\n",
        "    raise ValueError(\"No rows match the filtering criteria for training data.\")\n",
        "# Impute missing AnalyticalResultValue with MRL / 2 in the training data\n",
        "filtered_train[\"AnalyticalResultValue\"].fillna(\n",
        "    filtered_train[\"MRL\"] / 2, inplace=True\n",
        ")\n",
        "\n",
        "X_train_reg = filtered_train[features]\n",
        "y_train_reg = filtered_train[target]\n",
        "\n",
        "# Test data\n",
        "X_test_reg = filtered_data[features]\n",
        "y_test_reg = filtered_data[target] if target in filtered_data.columns else None\n",
        "\n",
        "# Debug: Check if train/test data have rows\n",
        "print(f\"X_train_reg shape: {X_train_reg.shape}\")\n",
        "print(f\"X_test_reg shape: {X_test_reg.shape}\")\n",
        "if X_train_reg.empty:\n",
        "    raise ValueError(\"X_train_reg is empty after filtering.\")\n",
        "if X_test_reg.empty:\n",
        "    raise ValueError(\"X_test_reg is empty after filtering.\")\n",
        "\n",
        "# --- Step 2: One-Hot Encode Categorical Variables ---\n",
        "X_train_reg = pd.get_dummies(X_train_reg, columns=features, drop_first=True)\n",
        "X_test_reg = pd.get_dummies(X_test_reg, columns=features, drop_first=True)\n",
        "\n",
        "# Align test set columns with training set\n",
        "X_test_reg = X_test_reg.reindex(columns=X_train_reg.columns, fill_value=0)\n",
        "\n",
        "# --- Step 3: Normalize Features ---\n",
        "# Check for empty DataFrames before normalization\n",
        "if X_train_reg.shape[1] == 0 or X_test_reg.shape[1] == 0:\n",
        "    raise ValueError(\"No features available after one-hot encoding.\")\n",
        "\n",
        "scaler = StandardScaler()\n",
        "X_train_reg = scaler.fit_transform(X_train_reg)\n",
        "X_test_reg = scaler.transform(X_test_reg)\n"
      ],
      "metadata": {
        "colab": {
          "base_uri": "https://localhost:8080/"
        },
        "id": "gVsyLTGdKEBv",
        "outputId": "7d1da51a-e168-441b-a152-d9851c3dd6ae"
      },
      "execution_count": 18,
      "outputs": [
        {
          "output_type": "stream",
          "name": "stderr",
          "text": [
            "<ipython-input-18-b9c4d4c24e2d>:3: FutureWarning: A value is trying to be set on a copy of a DataFrame or Series through chained assignment using an inplace method.\n",
            "The behavior will change in pandas 3.0. This inplace method will never work because the intermediate object on which we are setting values always behaves as a copy.\n",
            "\n",
            "For example, when doing 'df[col].method(value, inplace=True)', try using 'df.method({col: value}, inplace=True)' or df[col] = df[col].method(value) instead, to perform the operation inplace on the original object.\n",
            "\n",
            "\n",
            "  filtered_data[\"AnalyticalResultValue\"].fillna(\n",
            "<ipython-input-18-b9c4d4c24e2d>:25: FutureWarning: A value is trying to be set on a copy of a DataFrame or Series through chained assignment using an inplace method.\n",
            "The behavior will change in pandas 3.0. This inplace method will never work because the intermediate object on which we are setting values always behaves as a copy.\n",
            "\n",
            "For example, when doing 'df[col].method(value, inplace=True)', try using 'df.method({col: value}, inplace=True)' or df[col] = df[col].method(value) instead, to perform the operation inplace on the original object.\n",
            "\n",
            "\n",
            "  filtered_train[\"AnalyticalResultValue\"].fillna(\n",
            "<ipython-input-18-b9c4d4c24e2d>:25: SettingWithCopyWarning: \n",
            "A value is trying to be set on a copy of a slice from a DataFrame\n",
            "\n",
            "See the caveats in the documentation: https://pandas.pydata.org/pandas-docs/stable/user_guide/indexing.html#returning-a-view-versus-a-copy\n",
            "  filtered_train[\"AnalyticalResultValue\"].fillna(\n"
          ]
        },
        {
          "output_type": "stream",
          "name": "stdout",
          "text": [
            "X_train_reg shape: (13120, 6)\n",
            "X_test_reg shape: (132355, 6)\n"
          ]
        }
      ]
    },
    {
      "cell_type": "code",
      "source": [
        "class LSTMRegressor(nn.Module):\n",
        "    def __init__(self, input_size, hidden_size, num_layers):\n",
        "        super(LSTMRegressor, self).__init__()\n",
        "        self.hidden_size = hidden_size\n",
        "        self.num_layers = num_layers\n",
        "        self.lstm = nn.LSTM(input_size, hidden_size, num_layers, batch_first=True)\n",
        "        self.fc = nn.Linear(hidden_size, 1)  # Single output for regression\n",
        "\n",
        "    def forward(self, x):\n",
        "        h0 = torch.zeros(self.num_layers, x.size(0), self.hidden_size).to(device)\n",
        "        c0 = torch.zeros(self.num_layers, x.size(0), self.hidden_size).to(device)\n",
        "        out, _ = self.lstm(x, (h0, c0))\n",
        "        out = self.fc(out[:, -1, :])  # Take the output of the last LSTM cell\n",
        "        return out\n"
      ],
      "metadata": {
        "id": "E9OPzV_FKUHq"
      },
      "execution_count": 19,
      "outputs": []
    },
    {
      "cell_type": "code",
      "source": [
        "# Define sequence length\n",
        "seq_length = 5\n",
        "\n",
        "# Prepare training sequences\n",
        "X_train_sequences = []\n",
        "y_train_sequences = []\n",
        "\n",
        "for i in range(len(X_train_reg) - seq_length + 1):\n",
        "    X_train_sequences.append(X_train_reg[i:i+seq_length, :])\n",
        "    y_train_sequences.append(y_train_reg.values[i + seq_length - 1])\n",
        "\n",
        "# Convert to PyTorch tensors\n",
        "X_train_tensor = torch.tensor(X_train_sequences, dtype=torch.float32)\n",
        "y_train_tensor = torch.tensor(y_train_sequences, dtype=torch.float32)\n",
        "\n",
        "# Prepare test sequences\n",
        "X_test_sequences = []\n",
        "\n",
        "for i in range(len(X_test_reg) - seq_length + 1):\n",
        "    X_test_sequences.append(X_test_reg[i:i+seq_length, :])\n",
        "\n",
        "X_test_tensor = torch.tensor(X_test_sequences, dtype=torch.float32)\n"
      ],
      "metadata": {
        "id": "4sJxllNiKVll"
      },
      "execution_count": 20,
      "outputs": []
    },
    {
      "cell_type": "code",
      "source": [
        "# Initialize the model, loss function, and optimizer\n",
        "input_size = X_train_tensor.shape[2]\n",
        "hidden_size = 50\n",
        "num_layers = 2\n",
        "model = LSTMRegressor(input_size, hidden_size, num_layers).to(device)\n",
        "\n",
        "criterion = nn.MSELoss()  # Loss function for regression\n",
        "optimizer = torch.optim.Adam(model.parameters(), lr=0.001)\n",
        "\n",
        "# Training loop\n",
        "num_epochs = 20\n",
        "for epoch in range(num_epochs):\n",
        "    model.train()\n",
        "    epoch_loss = 0\n",
        "\n",
        "    for i in range(0, len(X_train_tensor), 32):  # Mini-batches\n",
        "        X_batch = X_train_tensor[i:i+32].to(device)\n",
        "        y_batch = y_train_tensor[i:i+32].to(device)\n",
        "\n",
        "        optimizer.zero_grad()\n",
        "        predictions = model(X_batch).squeeze()\n",
        "        loss = criterion(predictions, y_batch)\n",
        "        loss.backward()\n",
        "        optimizer.step()\n",
        "\n",
        "        epoch_loss += loss.item()\n",
        "\n",
        "    print(f\"Epoch [{epoch+1}/{num_epochs}], Loss: {epoch_loss / (len(X_train_tensor) // 32):.4f}\")\n"
      ],
      "metadata": {
        "colab": {
          "base_uri": "https://localhost:8080/"
        },
        "id": "wJuV65VhKXv6",
        "outputId": "dc171e58-0f49-4af1-94bd-96d5996a5736"
      },
      "execution_count": 21,
      "outputs": [
        {
          "output_type": "stream",
          "name": "stdout",
          "text": [
            "Epoch [1/20], Loss: 0.0006\n",
            "Epoch [2/20], Loss: 0.0004\n",
            "Epoch [3/20], Loss: 0.0004\n",
            "Epoch [4/20], Loss: 0.0004\n",
            "Epoch [5/20], Loss: 0.0004\n",
            "Epoch [6/20], Loss: 0.0003\n",
            "Epoch [7/20], Loss: 0.0003\n",
            "Epoch [8/20], Loss: 0.0003\n",
            "Epoch [9/20], Loss: 0.0002\n",
            "Epoch [10/20], Loss: 0.0002\n",
            "Epoch [11/20], Loss: 0.0002\n",
            "Epoch [12/20], Loss: 0.0001\n",
            "Epoch [13/20], Loss: 0.0002\n",
            "Epoch [14/20], Loss: 0.0002\n",
            "Epoch [15/20], Loss: 0.0001\n",
            "Epoch [16/20], Loss: 0.0001\n",
            "Epoch [17/20], Loss: 0.0001\n",
            "Epoch [18/20], Loss: 0.0001\n",
            "Epoch [19/20], Loss: 0.0001\n",
            "Epoch [20/20], Loss: 0.0001\n"
          ]
        }
      ]
    },
    {
      "cell_type": "code",
      "source": [
        "# Predict for test data\n",
        "model.eval()\n",
        "with torch.no_grad():\n",
        "    predictions = model(X_test_tensor.to(device)).squeeze().cpu().numpy()\n",
        "\n",
        "# Save predictions\n",
        "# Drop the first `seq_length - 1` rows from filtered_data to align with predictions\n",
        "adjusted_filtered_data = filtered_data.iloc[seq_length - 1:].copy()\n",
        "\n",
        "# Ensure alignment\n",
        "if len(predictions) != len(adjusted_filtered_data):\n",
        "    raise ValueError(\"Mismatch between predictions and filtered_data rows after adjustment.\")\n",
        "\n",
        "# Add predictions to the adjusted DataFrame\n",
        "adjusted_filtered_data[\"PredictedAnalyticalResultValue\"] = predictions\n",
        "\n",
        "# Save results\n",
        "adjusted_filtered_data.to_csv(\"predicted_analytical_result_values.csv\", index=False)\n",
        "\n",
        "# Print sample results\n",
        "print(adjusted_filtered_data[[\"PredictedSign\", \"PredictedAnalyticalResultValue\"]].head())"
      ],
      "metadata": {
        "colab": {
          "base_uri": "https://localhost:8080/"
        },
        "id": "R2Hm1mbFKZ8v",
        "outputId": "5d47abc4-5faa-4073-87c0-86d845b63643"
      },
      "execution_count": 22,
      "outputs": [
        {
          "output_type": "stream",
          "name": "stdout",
          "text": [
            "    PredictedSign  PredictedAnalyticalResultValue\n",
            "79              1                        0.008808\n",
            "82              1                        0.007580\n",
            "83              1                        0.010001\n",
            "86              1                        0.012596\n",
            "88              1                        0.008119\n"
          ]
        }
      ]
    },
    {
      "cell_type": "code",
      "source": [
        "import matplotlib.pyplot as plt\n",
        "\n",
        "# Histogram of predicted values\n",
        "plt.hist(adjusted_filtered_data[\"PredictedAnalyticalResultValue\"], bins=50, alpha=0.7)\n",
        "plt.title(\"Distribution of Predicted Analytical Result Values\")\n",
        "plt.xlabel(\"Predicted Analytical Result Value\")\n",
        "plt.ylabel(\"Frequency\")\n",
        "plt.grid(True)\n",
        "plt.show()\n"
      ],
      "metadata": {
        "colab": {
          "base_uri": "https://localhost:8080/",
          "height": 472
        },
        "id": "piv30RmDS1-V",
        "outputId": "d0072ed2-7d84-44e0-83e0-28d997195560"
      },
      "execution_count": 23,
      "outputs": [
        {
          "output_type": "display_data",
          "data": {
            "text/plain": [
              "<Figure size 640x480 with 1 Axes>"
            ],
            "image/png": "[encoded data removed]"
          },
          "metadata": {}
        }
      ]
    },
    {
      "cell_type": "code",
      "source": [
        "from sklearn.metrics import mean_squared_error, mean_absolute_error\n",
        "\n",
        "y_actual = adjusted_filtered_data[\"AnalyticalResultValue\"].values\n",
        "y_pred = adjusted_filtered_data[\"PredictedAnalyticalResultValue\"].values\n",
        "\n",
        "mse = mean_squared_error(y_actual, y_pred)\n",
        "mae = mean_absolute_error(y_actual, y_pred)\n",
        "\n",
        "print(f\"MSE: {mse:.4f}, MAE: {mae:.4f}\")\n"
      ],
      "metadata": {
        "colab": {
          "base_uri": "https://localhost:8080/"
        },
        "id": "9MiNpT0nWtcR",
        "outputId": "08ce867d-3d56-41b2-91ae-2164684373d7"
      },
      "execution_count": 24,
      "outputs": [
        {
          "output_type": "stream",
          "name": "stdout",
          "text": [
            "MSE: 0.0002, MAE: 0.0061\n"
          ]
        }
      ]
    }
  ]
}